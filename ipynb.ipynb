{
 "cells": [
  {
   "cell_type": "code",
   "execution_count": 2,
   "metadata": {},
   "outputs": [],
   "source": [
    "import minerl\n",
    "import os\n",
    "import coloredlogs\n",
    "import logging\n",
    "import numpy as np\n",
    "import tqdm"
   ]
  },
  {
   "cell_type": "code",
   "execution_count": 3,
   "metadata": {
    "tags": []
   },
   "outputs": [
    {
     "output_type": "stream",
     "name": "stderr",
     "text": "0it [00:00, ?it/s]\n100%|██████████| 209/209 [00:00<00:00, 13856.59it/s]\n913it [00:09, 100.97it/s]\n"
    }
   ],
   "source": [
    "os.environ['MINERL_DATA_ROOT'] = os.path.expanduser('~/data/minerl')\n",
    "dat = minerl.data.make('MineRLTreechopVectorObf-v0')\n",
    "\n",
    "act_vectors = []\n",
    "for _, act, _, _,_ in tqdm.tqdm(dat.batch_iter(2, 32, 2, preload_buffer_size=2)):\n",
    "    act_vectors.append(act['vector'])\n",
    "    if len(act_vectors) > 1000:\n",
    "        break"
   ]
  },
  {
   "cell_type": "code",
   "execution_count": 4,
   "metadata": {},
   "outputs": [],
   "source": [
    "acts = np.concatenate(act_vectors).reshape(-1, 64)"
   ]
  },
  {
   "cell_type": "code",
   "execution_count": 5,
   "metadata": {},
   "outputs": [],
   "source": [
    "kmeans_acts = acts[:100000]"
   ]
  },
  {
   "cell_type": "code",
   "execution_count": 6,
   "metadata": {},
   "outputs": [],
   "source": [
    "from sklearn.cluster import KMeans\n",
    "kmeans = KMeans(n_clusters=30, random_state=0).fit(kmeans_acts)"
   ]
  },
  {
   "cell_type": "code",
   "execution_count": 7,
   "metadata": {},
   "outputs": [],
   "source": [
    "y = kmeans.predict(kmeans_acts)"
   ]
  },
  {
   "cell_type": "code",
   "execution_count": 20,
   "metadata": {},
   "outputs": [
    {
     "output_type": "execute_result",
     "data": {
      "text/plain": "6.100271002710027"
     },
     "metadata": {},
     "execution_count": 20
    }
   ],
   "source": [
    "m = np.r_[True,y[:-1]!=y[1:],True]\n",
    "counts = np.diff(np.flatnonzero(m))\n",
    "unq = y[m[:-1]]\n",
    "repeats = np.c_[unq,counts]"
   ]
  },
  {
   "cell_type": "code",
   "execution_count": 13,
   "metadata": {},
   "outputs": [
    {
     "output_type": "stream",
     "name": "stdout",
     "text": "Clusters\nOrderedDict([('attack', array(1)),\n             ('back', array(0)),\n             ('camera', array([0.0448781 , 0.08084577], dtype=float32)),\n             ('forward', array(0)),\n             ('jump', array(0)),\n             ('left', array(0)),\n             ('right', array(0)),\n             ('sneak', array(0)),\n             ('sprint', array(0))])\nOrderedDict([('attack', array(0)),\n             ('back', array(0)),\n             ('camera', array([0.03759082, 0.20601694], dtype=float32)),\n             ('forward', array(0)),\n             ('jump', array(0)),\n             ('left', array(0)),\n             ('right', array(0)),\n             ('sneak', array(0)),\n             ('sprint', array(0))])\nOrderedDict([('attack', array(0)),\n             ('back', array(0)),\n             ('camera', array([0.04614964, 0.294778  ], dtype=float32)),\n             ('forward', array(1)),\n             ('jump', array(0)),\n             ('left', array(0)),\n             ('right', array(0)),\n             ('sneak', array(0)),\n             ('sprint', array(0))])\nOrderedDict([('attack', array(0)),\n             ('back', array(0)),\n             ('camera', array([0.11694819, 0.2952664 ], dtype=float32)),\n             ('forward', array(1)),\n             ('jump', array(0)),\n             ('left', array(0)),\n             ('right', array(0)),\n             ('sneak', array(0)),\n             ('sprint', array(1))])\nOrderedDict([('attack', array(1)),\n             ('back', array(0)),\n             ('camera', array([-0.15332837,  0.15066527], dtype=float32)),\n             ('forward', array(1)),\n             ('jump', array(0)),\n             ('left', array(0)),\n             ('right', array(0)),\n             ('sneak', array(0)),\n             ('sprint', array(0))])\nOrderedDict([('attack', array(0)),\n             ('back', array(0)),\n             ('camera', array([ 0.09314826, -0.20783836], dtype=float32)),\n             ('forward', array(1)),\n             ('jump', array(1)),\n             ('left', array(0)),\n             ('right', array(0)),\n             ('sneak', array(0)),\n             ('sprint', array(0))])\nOrderedDict([('attack', array(0)),\n             ('back', array(0)),\n             ('camera', array([-0.06133533,  0.5463666 ], dtype=float32)),\n             ('forward', array(0)),\n             ('jump', array(0)),\n             ('left', array(1)),\n             ('right', array(0)),\n             ('sneak', array(0)),\n             ('sprint', array(0))])\nOrderedDict([('attack', array(0)),\n             ('back', array(0)),\n             ('camera', array([ 0.04866103, -0.07464597], dtype=float32)),\n             ('forward', array(1)),\n             ('jump', array(1)),\n             ('left', array(0)),\n             ('right', array(0)),\n             ('sneak', array(0)),\n             ('sprint', array(1))])\nOrderedDict([('attack', array(1)),\n             ('back', array(0)),\n             ('camera', array([ 0.36985537, -1.8687912 ], dtype=float32)),\n             ('forward', array(0)),\n             ('jump', array(0)),\n             ('left', array(0)),\n             ('right', array(1)),\n             ('sneak', array(0)),\n             ('sprint', array(0))])\nOrderedDict([('attack', array(0)),\n             ('back', array(0)),\n             ('camera', array([0.04074794, 0.09457009], dtype=float32)),\n             ('forward', array(0)),\n             ('jump', array(0)),\n             ('left', array(0)),\n             ('right', array(0)),\n             ('sneak', array(0)),\n             ('sprint', array(0))])\nOrderedDict([('attack', array(0)),\n             ('back', array(0)),\n             ('camera', array([ 0.30378336, -1.4890506 ], dtype=float32)),\n             ('forward', array(1)),\n             ('jump', array(0)),\n             ('left', array(0)),\n             ('right', array(1)),\n             ('sneak', array(0)),\n             ('sprint', array(0))])\nOrderedDict([('attack', array(0)),\n             ('back', array(0)),\n             ('camera', array([-0.41409498,  0.4090352 ], dtype=float32)),\n             ('forward', array(0)),\n             ('jump', array(0)),\n             ('left', array(0)),\n             ('right', array(1)),\n             ('sneak', array(0)),\n             ('sprint', array(0))])\nOrderedDict([('attack', array(0)),\n             ('back', array(1)),\n             ('camera', array([-1.1898112 ,  0.43861347], dtype=float32)),\n             ('forward', array(0)),\n             ('jump', array(0)),\n             ('left', array(0)),\n             ('right', array(0)),\n             ('sneak', array(1)),\n             ('sprint', array(0))])\nOrderedDict([('attack', array(0)),\n             ('back', array(1)),\n             ('camera', array([ 0.4454654, -1.8855187], dtype=float32)),\n             ('forward', array(0)),\n             ('jump', array(0)),\n             ('left', array(0)),\n             ('right', array(0)),\n             ('sneak', array(0)),\n             ('sprint', array(0))])\nOrderedDict([('attack', array(0)),\n             ('back', array(0)),\n             ('camera', array([-0.08887206,  0.09343564], dtype=float32)),\n             ('forward', array(0)),\n             ('jump', array(0)),\n             ('left', array(0)),\n             ('right', array(0)),\n             ('sneak', array(0)),\n             ('sprint', array(0))])\nOrderedDict([('attack', array(0)),\n             ('back', array(0)),\n             ('camera', array([0.05846603, 0.09455931], dtype=float32)),\n             ('forward', array(0)),\n             ('jump', array(0)),\n             ('left', array(0)),\n             ('right', array(0)),\n             ('sneak', array(0)),\n             ('sprint', array(0))])\nOrderedDict([('attack', array(0)),\n             ('back', array(0)),\n             ('camera', array([ -1.5714078, -37.767376 ], dtype=float32)),\n             ('forward', array(0)),\n             ('jump', array(0)),\n             ('left', array(0)),\n             ('right', array(0)),\n             ('sneak', array(0)),\n             ('sprint', array(0))])\nOrderedDict([('attack', array(0)),\n             ('back', array(0)),\n             ('camera', array([0.07388682, 1.3066427 ], dtype=float32)),\n             ('forward', array(1)),\n             ('jump', array(0)),\n             ('left', array(1)),\n             ('right', array(0)),\n             ('sneak', array(0)),\n             ('sprint', array(0))])\nOrderedDict([('attack', array(0)),\n             ('back', array(0)),\n             ('camera', array([ 0.8259399, 20.959415 ], dtype=float32)),\n             ('forward', array(0)),\n             ('jump', array(0)),\n             ('left', array(0)),\n             ('right', array(0)),\n             ('sneak', array(0)),\n             ('sprint', array(0))])\nOrderedDict([('attack', array(0)),\n             ('back', array(0)),\n             ('camera', array([ 1.2577016, -1.3665358], dtype=float32)),\n             ('forward', array(1)),\n             ('jump', array(0)),\n             ('left', array(0)),\n             ('right', array(0)),\n             ('sneak', array(1)),\n             ('sprint', array(0))])\nOrderedDict([('attack', array(0)),\n             ('back', array(0)),\n             ('camera', array([  0.04348953, -12.490095  ], dtype=float32)),\n             ('forward', array(0)),\n             ('jump', array(0)),\n             ('left', array(0)),\n             ('right', array(0)),\n             ('sneak', array(0)),\n             ('sprint', array(0))])\nOrderedDict([('attack', array(0)),\n             ('back', array(0)),\n             ('camera', array([-0.06947388,  2.6783009 ], dtype=float32)),\n             ('forward', array(0)),\n             ('jump', array(0)),\n             ('left', array(0)),\n             ('right', array(0)),\n             ('sneak', array(1)),\n             ('sprint', array(0))])\nOrderedDict([('attack', array(1)),\n             ('back', array(0)),\n             ('camera', array([0.50873315, 0.07755041], dtype=float32)),\n             ('forward', array(1)),\n             ('jump', array(1)),\n             ('left', array(0)),\n             ('right', array(0)),\n             ('sneak', array(0)),\n             ('sprint', array(0))])\nOrderedDict([('attack', array(0)),\n             ('back', array(0)),\n             ('camera', array([0.0428489 , 0.10489739], dtype=float32)),\n             ('forward', array(0)),\n             ('jump', array(0)),\n             ('left', array(0)),\n             ('right', array(0)),\n             ('sneak', array(0)),\n             ('sprint', array(0))])\nOrderedDict([('attack', array(1)),\n             ('back', array(0)),\n             ('camera', array([-0.39380977, -3.0366929 ], dtype=float32)),\n             ('forward', array(1)),\n             ('jump', array(0)),\n             ('left', array(0)),\n             ('right', array(1)),\n             ('sneak', array(0)),\n             ('sprint', array(0))])\nOrderedDict([('attack', array(1)),\n             ('back', array(0)),\n             ('camera', array([0.07648837, 2.8854206 ], dtype=float32)),\n             ('forward', array(0)),\n             ('jump', array(0)),\n             ('left', array(1)),\n             ('right', array(0)),\n             ('sneak', array(0)),\n             ('sprint', array(0))])\nOrderedDict([('attack', array(0)),\n             ('back', array(0)),\n             ('camera', array([-0.01804991,  0.13250373], dtype=float32)),\n             ('forward', array(0)),\n             ('jump', array(0)),\n             ('left', array(0)),\n             ('right', array(0)),\n             ('sneak', array(0)),\n             ('sprint', array(0))])\nOrderedDict([('attack', array(0)),\n             ('back', array(0)),\n             ('camera', array([-0.2848079 , -0.33741263], dtype=float32)),\n             ('forward', array(1)),\n             ('jump', array(1)),\n             ('left', array(0)),\n             ('right', array(1)),\n             ('sneak', array(0)),\n             ('sprint', array(0))])\nOrderedDict([('attack', array(0)),\n             ('back', array(1)),\n             ('camera', array([-0.06758284, -2.6504118 ], dtype=float32)),\n             ('forward', array(0)),\n             ('jump', array(0)),\n             ('left', array(1)),\n             ('right', array(0)),\n             ('sneak', array(0)),\n             ('sprint', array(0))])\nOrderedDict([('attack', array(0)),\n             ('back', array(0)),\n             ('camera', array([ 0.25019503, -0.4678775 ], dtype=float32)),\n             ('forward', array(0)),\n             ('jump', array(1)),\n             ('left', array(0)),\n             ('right', array(0)),\n             ('sneak', array(0)),\n             ('sprint', array(0))])\n"
    }
   ],
   "source": [
    "print(\"Clusters\")\n",
    "import pprint\n",
    "vecs= []\n",
    "for i in range(30):\n",
    "    pprint.pprint(minerl.herobraine.envs.MINERL_TREECHOP_OBF_V0.unwrap_action(\n",
    "    {'vector':  kmeans.cluster_centers_[i]}))\n",
    "    vecs.append(\n",
    "        ({'vector':  kmeans.cluster_centers_[i]}, \n",
    "int(repeats[np.where(repeats[:,0] == 1)][:,1].mean()))\n",
    "    )"
   ]
  },
  {
   "cell_type": "code",
   "execution_count": 17,
   "metadata": {},
   "outputs": [],
   "source": [
    "np.save('vecs', vecs)"
   ]
  },
  {
   "cell_type": "code",
   "execution_count": null,
   "metadata": {},
   "outputs": [],
   "source": []
  }
 ],
 "metadata": {
  "language_info": {
   "codemirror_mode": {
    "name": "ipython",
    "version": 3
   },
   "file_extension": ".py",
   "mimetype": "text/x-python",
   "name": "python",
   "nbconvert_exporter": "python",
   "pygments_lexer": "ipython3",
   "version": "3.7.6-final"
  },
  "orig_nbformat": 2,
  "kernelspec": {
   "name": "python3",
   "display_name": "Python 3"
  }
 },
 "nbformat": 4,
 "nbformat_minor": 2
}